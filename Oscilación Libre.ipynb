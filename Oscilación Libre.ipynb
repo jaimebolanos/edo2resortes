{
 "cells": [
  {
   "cell_type": "markdown",
   "metadata": {},
   "source": [
    "<p style=\"text-align: center;font-family:Arial;font-size:32px;Color:red \">Oscilación Libre</p>\n",
    "\n"
   ]
  },
  {
   "cell_type": "markdown",
   "metadata": {},
   "source": [
    "Un resorte en oscilación libre debe tener una fuerza de amortiguamiento $F_{medio}=0 $ y la fuerza externa $F(t)=0$\n",
    "de tal manera que la la ecuación en este caso será:\n",
    "\n",
    "$$\\ddot{x}+\\frac{k }{m}x=0$$"
   ]
  },
  {
   "cell_type": "markdown",
   "metadata": {},
   "source": [
    "\n"
   ]
  },
  {
   "cell_type": "markdown",
   "metadata": {},
   "source": [
    "<p style=\"text-left: center;font-family:Arial;font-size:32px;Color:blue \">Problemas</p>\n"
   ]
  },
  {
   "cell_type": "markdown",
   "metadata": {},
   "source": [
    "1.Una cuerpo que pesa 256 lb es suspendido en un resorte el cuál se estira 4 pulgadas a partir de su longitud natural. La masa se desplaza 5 pies por encima de su posición de equilibrio con velocidad inicial 0. Asuma que no existe \n",
    "rozamiento del medio.\n",
    "\n",
    "a) Halle la ecuación m vs t\n",
    "b) La posición de la masa en el tiempo t=10 s"
   ]
  },
  {
   "cell_type": "markdown",
   "metadata": {},
   "source": [
    "## Solución \n",
    "En primer lugar evaluamos la constante del resorte:\n",
    "\n",
    "\n",
    "$$F_{Hooke}=-k x=256=-k(-4)$$\n",
    "\n",
    "\n",
    "\n",
    "De donde la constante $k=\\frac{256}{4}=64 \\frac{lb}{pie}$ y la masa es $m=\\frac{256}{32}= 4 $ slug\n",
    "\n",
    "La ecuación diferencial para esta oscilación será entonces:\n",
    "\n",
    "$$\\ddot{x}+\\frac{64}{4}=\\ddot{x}+16 x=0$$\n",
    "\n",
    "La solucón de ésta ecuación diferencial homogénea tiene como solución:\n",
    "\n",
    "$$x= C_1 cos(4t)+ C_2 sen(4t)$$\n",
    "\n",
    "\n",
    "Para evaluar las constantes utilizamos las condiciones de posición y velocidad dadas:\n",
    "\n",
    "$$x(t=0)=x_0=-5 ~~pulg \\cdot \\frac {1 pie}{12 ~~pulg}=-\\frac{5}{12}\\approx -0.4167 pie$$\n",
    "\n",
    "\n",
    "$$v(t=0)=v_0=0$$\n",
    "\n",
    "Con la primera condición tendríamos:\n",
    "\n",
    "$$-\\frac{5}{12}=C_1 cos(4 \\cdot 0)+C_2 sen(4 \\cdot 0)$$\n",
    "\n",
    "$$C_1=-\\frac{5}{12}$$\n",
    "\n",
    "Para encontrar $C_2$ derivamos la expresión de la posición para obtener la de velocidad:\n",
    "\n",
    "\n",
    "$$\\ddot{x}=-4 C_1 sen(4t)+ 4 C_2 cos(4t)$$\n",
    "\n",
    "Aplicacando la otra condición:\n",
    "\n",
    "\n",
    "$$0=-4 C_1 sen(4 \\cdot 0)+ 4 C_2 cos(4\\cdot 0)$$\n",
    "\n",
    "$$C_2=0$$\n",
    "\n",
    "\n",
    "Con estos valores de las constantes la ecuación de posición puede escribirse:\n",
    "\n",
    "$$x= -\\frac{5}{12}cos(4t)$$\n",
    "\n",
    "b) Al cabo de 10 segundos la posición de la pertícula es: $$x(t=10)= -\\frac{5}{12}cos(4\\cdot 10)=-0.6667 ~~pie$$"
   ]
  },
  {
   "cell_type": "code",
   "execution_count": null,
   "metadata": {},
   "outputs": [],
   "source": [
    "2. Un cuerpo de masa 4 kx y una constante de resorte K= 12 N/m"
   ]
  }
 ],
 "metadata": {
  "kernelspec": {
   "display_name": "Python 3",
   "language": "python",
   "name": "python3"
  },
  "language_info": {
   "codemirror_mode": {
    "name": "ipython",
    "version": 2
   },
   "file_extension": ".py",
   "mimetype": "text/x-python",
   "name": "python",
   "nbconvert_exporter": "python",
   "pygments_lexer": "ipython2",
   "version": "2.7.14"
  }
 },
 "nbformat": 4,
 "nbformat_minor": 2
}
